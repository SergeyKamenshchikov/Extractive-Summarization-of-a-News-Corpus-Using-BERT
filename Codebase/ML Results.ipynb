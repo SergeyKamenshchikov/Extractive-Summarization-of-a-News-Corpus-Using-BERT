{
 "cells": [
  {
   "cell_type": "markdown",
   "metadata": {},
   "source": [
    "# Machine Learning Results"
   ]
  },
  {
   "cell_type": "markdown",
   "metadata": {},
   "source": [
    "## Section 1: Supervised Learning Using Only Embedding Information"
   ]
  },
  {
   "cell_type": "markdown",
   "metadata": {},
   "source": [
    "### LogReg Embedding Only"
   ]
  },
  {
   "cell_type": "code",
   "execution_count": 1,
   "metadata": {},
   "outputs": [],
   "source": [
    "import pandas as pd\n",
    "\n",
    "#load results data\n",
    "input_default =  'cv_results_top_3_logreg_default.pickle'\n",
    "input_balanced = 'cv_results_top_3_logreg_cw_balanced.pickle'\n",
    "input_hyper = 'cv_results_top_3_logreg_elasticnet_gridsearch.pickle'\n",
    "input_net = 'cv_results_top_3_logreg_elasticnet.pickle'\n",
    "\n",
    "r_def = pd.read_pickle(input_default)\n",
    "r_bal = pd.read_pickle(input_balanced)\n",
    "r_hyp = pd.read_pickle(input_hyper)\n",
    "r_net = pd.read_pickle(input_net)\n",
    "\n",
    "\n"
   ]
  },
  {
   "cell_type": "code",
   "execution_count": 2,
   "metadata": {},
   "outputs": [
    {
     "data": {
      "text/html": [
       "<div>\n",
       "<style scoped>\n",
       "    .dataframe tbody tr th:only-of-type {\n",
       "        vertical-align: middle;\n",
       "    }\n",
       "\n",
       "    .dataframe tbody tr th {\n",
       "        vertical-align: top;\n",
       "    }\n",
       "\n",
       "    .dataframe thead th {\n",
       "        text-align: right;\n",
       "    }\n",
       "</style>\n",
       "<table border=\"1\" class=\"dataframe\">\n",
       "  <thead>\n",
       "    <tr style=\"text-align: right;\">\n",
       "      <th>ROUGE-1</th>\n",
       "      <th>f1</th>\n",
       "      <th>recall</th>\n",
       "      <th>precision</th>\n",
       "    </tr>\n",
       "    <tr>\n",
       "      <th>LogReg</th>\n",
       "      <th></th>\n",
       "      <th></th>\n",
       "      <th></th>\n",
       "    </tr>\n",
       "  </thead>\n",
       "  <tbody>\n",
       "    <tr>\n",
       "      <th>Default</th>\n",
       "      <td>0.411</td>\n",
       "      <td>0.396</td>\n",
       "      <td>0.561</td>\n",
       "    </tr>\n",
       "    <tr>\n",
       "      <th>Balanced</th>\n",
       "      <td>0.407</td>\n",
       "      <td>0.396</td>\n",
       "      <td>0.551</td>\n",
       "    </tr>\n",
       "    <tr>\n",
       "      <th>ElasticNet</th>\n",
       "      <td>0.415</td>\n",
       "      <td>0.401</td>\n",
       "      <td>0.566</td>\n",
       "    </tr>\n",
       "  </tbody>\n",
       "</table>\n",
       "</div>"
      ],
      "text/plain": [
       "ROUGE-1        f1  recall  precision\n",
       "LogReg                              \n",
       "Default     0.411   0.396      0.561\n",
       "Balanced    0.407   0.396      0.551\n",
       "ElasticNet  0.415   0.401      0.566"
      ]
     },
     "execution_count": 2,
     "metadata": {},
     "output_type": "execute_result"
    }
   ],
   "source": [
    "#wrap rouge score in dataframe\n",
    "df_def = pd.DataFrame(r_def['Rouge']['rouge1'], index=['Default']).apply(lambda x: round(x,3))\n",
    "df_bal = pd.DataFrame(r_bal['Rouge']['rouge1'], index=['Balanced']).apply(lambda x: round(x,3))\n",
    "df_net = pd.DataFrame(r_net['Rouge']['rouge1'], index=['ElasticNet']).apply(lambda x: round(x,3))\n",
    "#concatenate and display\n",
    "df_logreg = pd.concat([df_def, df_bal, df_net]) \n",
    "df_logreg.columns.name = 'ROUGE-1'\n",
    "df_logreg.index.name = 'LogReg'\n",
    "df_logreg[['f1', 'recall', 'precision']]"
   ]
  },
  {
   "cell_type": "code",
   "execution_count": 3,
   "metadata": {},
   "outputs": [
    {
     "name": "stdout",
     "output_type": "stream",
     "text": [
      "(0.25, 0.5)\n",
      "0.4149457245589446\n"
     ]
    }
   ],
   "source": [
    "#Gridsearch results for elastic net\n",
    "import numpy as np\n",
    "\n",
    "idx_max_score_hyp = np.argmax(np.array(r_hyp['scores']))\n",
    "max_score_params = r_hyp['params'][idx_max_score_hyp]\n",
    "max_score_hyp = r_hyp['scores'][idx_max_score_hyp]\n",
    "\n",
    "print(max_score_params)\n",
    "print(max_score_hyp)"
   ]
  },
  {
   "cell_type": "code",
   "execution_count": 4,
   "metadata": {},
   "outputs": [
    {
     "data": {
      "image/png": "[encoded data removed]",
      "text/plain": [
       "<Figure size 396x252 with 1 Axes>"
      ]
     },
     "metadata": {
      "needs_background": "light"
     },
     "output_type": "display_data"
    }
   ],
   "source": [
    "#plot gridsearch scores\n",
    "import matplotlib.pyplot as plt\n",
    "\n",
    "plt.figure(figsize=(5.5,3.5))\n",
    "plt.plot(sorted(r_hyp['scores'], reverse=True));\n",
    "plt.ylim(0.39, 0.44);\n",
    "plt.title('ElasticNet: Rouge-1 F1 Score Parameter Grid');\n",
    "plt.xlabel('Sample Number');\n",
    "plt.ylabel('F1');"
   ]
  },
  {
   "cell_type": "code",
   "execution_count": 5,
   "metadata": {},
   "outputs": [
    {
     "data": {
      "text/html": [
       "<div>\n",
       "<style scoped>\n",
       "    .dataframe tbody tr th:only-of-type {\n",
       "        vertical-align: middle;\n",
       "    }\n",
       "\n",
       "    .dataframe tbody tr th {\n",
       "        vertical-align: top;\n",
       "    }\n",
       "\n",
       "    .dataframe thead th {\n",
       "        text-align: right;\n",
       "    }\n",
       "</style>\n",
       "<table border=\"1\" class=\"dataframe\">\n",
       "  <thead>\n",
       "    <tr style=\"text-align: right;\">\n",
       "      <th>Predicted</th>\n",
       "      <th>Out</th>\n",
       "      <th>In</th>\n",
       "    </tr>\n",
       "    <tr>\n",
       "      <th>Actual</th>\n",
       "      <th></th>\n",
       "      <th></th>\n",
       "    </tr>\n",
       "  </thead>\n",
       "  <tbody>\n",
       "    <tr>\n",
       "      <th>Out</th>\n",
       "      <td>29253</td>\n",
       "      <td>65</td>\n",
       "    </tr>\n",
       "    <tr>\n",
       "      <th>In</th>\n",
       "      <td>3032</td>\n",
       "      <td>75</td>\n",
       "    </tr>\n",
       "  </tbody>\n",
       "</table>\n",
       "</div>"
      ],
      "text/plain": [
       "Predicted    Out  In\n",
       "Actual              \n",
       "Out        29253  65\n",
       "In          3032  75"
      ]
     },
     "execution_count": 5,
     "metadata": {},
     "output_type": "execute_result"
    }
   ],
   "source": [
    "#wrap confusion matrix for defualt logreg in df for display\n",
    "cm_def = pd.DataFrame(r_def['conf_matrix'], index= ['Out', 'In'], columns=['Out', 'In'])\n",
    "cm_def.columns.name = 'Predicted'\n",
    "cm_def.index.name = 'Actual'\n",
    "cm_def"
   ]
  },
  {
   "cell_type": "code",
   "execution_count": 6,
   "metadata": {},
   "outputs": [
    {
     "data": {
      "text/html": [
       "<div>\n",
       "<style scoped>\n",
       "    .dataframe tbody tr th:only-of-type {\n",
       "        vertical-align: middle;\n",
       "    }\n",
       "\n",
       "    .dataframe tbody tr th {\n",
       "        vertical-align: top;\n",
       "    }\n",
       "\n",
       "    .dataframe thead th {\n",
       "        text-align: right;\n",
       "    }\n",
       "</style>\n",
       "<table border=\"1\" class=\"dataframe\">\n",
       "  <thead>\n",
       "    <tr style=\"text-align: right;\">\n",
       "      <th>Predicted</th>\n",
       "      <th>Out</th>\n",
       "      <th>In</th>\n",
       "    </tr>\n",
       "    <tr>\n",
       "      <th>Actual</th>\n",
       "      <th></th>\n",
       "      <th></th>\n",
       "    </tr>\n",
       "  </thead>\n",
       "  <tbody>\n",
       "    <tr>\n",
       "      <th>Out</th>\n",
       "      <td>19352</td>\n",
       "      <td>9966</td>\n",
       "    </tr>\n",
       "    <tr>\n",
       "      <th>In</th>\n",
       "      <td>1156</td>\n",
       "      <td>1951</td>\n",
       "    </tr>\n",
       "  </tbody>\n",
       "</table>\n",
       "</div>"
      ],
      "text/plain": [
       "Predicted    Out    In\n",
       "Actual                \n",
       "Out        19352  9966\n",
       "In          1156  1951"
      ]
     },
     "execution_count": 6,
     "metadata": {},
     "output_type": "execute_result"
    }
   ],
   "source": [
    "#wrap confusion matrix for balanced logreg in df for display\n",
    "cm_bal = pd.DataFrame(r_bal['conf_matrix'], index= ['Out', 'In'], columns=['Out', 'In'])\n",
    "cm_bal.columns.name = 'Predicted'\n",
    "cm_bal.index.name = 'Actual'\n",
    "cm_bal"
   ]
  },
  {
   "cell_type": "code",
   "execution_count": 7,
   "metadata": {},
   "outputs": [
    {
     "data": {
      "text/html": [
       "<div>\n",
       "<style scoped>\n",
       "    .dataframe tbody tr th:only-of-type {\n",
       "        vertical-align: middle;\n",
       "    }\n",
       "\n",
       "    .dataframe tbody tr th {\n",
       "        vertical-align: top;\n",
       "    }\n",
       "\n",
       "    .dataframe thead th {\n",
       "        text-align: right;\n",
       "    }\n",
       "</style>\n",
       "<table border=\"1\" class=\"dataframe\">\n",
       "  <thead>\n",
       "    <tr style=\"text-align: right;\">\n",
       "      <th>Predicted</th>\n",
       "      <th>Out</th>\n",
       "      <th>In</th>\n",
       "    </tr>\n",
       "    <tr>\n",
       "      <th>Actual</th>\n",
       "      <th></th>\n",
       "      <th></th>\n",
       "    </tr>\n",
       "  </thead>\n",
       "  <tbody>\n",
       "    <tr>\n",
       "      <th>Out</th>\n",
       "      <td>29234</td>\n",
       "      <td>84</td>\n",
       "    </tr>\n",
       "    <tr>\n",
       "      <th>In</th>\n",
       "      <td>3013</td>\n",
       "      <td>94</td>\n",
       "    </tr>\n",
       "  </tbody>\n",
       "</table>\n",
       "</div>"
      ],
      "text/plain": [
       "Predicted    Out  In\n",
       "Actual              \n",
       "Out        29234  84\n",
       "In          3013  94"
      ]
     },
     "execution_count": 7,
     "metadata": {},
     "output_type": "execute_result"
    }
   ],
   "source": [
    "#wrap confusion matrix for optimal elastic net in df for display\n",
    "cm_net = pd.DataFrame(r_net['conf_matrix'], index= ['Out', 'In'], columns=['Out', 'In'])\n",
    "cm_net.columns.name = 'Predicted'\n",
    "cm_net.index.name = 'Actual'\n",
    "cm_net"
   ]
  },
  {
   "cell_type": "markdown",
   "metadata": {},
   "source": [
    "### Neural Nets"
   ]
  },
  {
   "cell_type": "code",
   "execution_count": 8,
   "metadata": {},
   "outputs": [],
   "source": [
    "#load results\n",
    "input_25_no = 'cv_results_nn25_embeddings_only_no_cw_top3_epochs50.pickle'\n",
    "input_25 = 'cv_results_nn25_embeddings_only_cw_top3_epochs50.pickle'\n",
    "input_50 = 'cv_results_nn50_embeddings_only_cw_top3_epochs50.pickle'\n",
    "input_75 = 'cv_results_nn75_embeddings_only_cw_top3_epochs50.pickle'\n",
    "input_2525 = 'cv_results_nn2525_embeddings_only_cw_top3_epochs50.pickle'\n",
    "input_2550 = 'cv_results_nn2550_embeddings_only_cw_top3_epochs50.pickle'\n",
    "input_5050 = 'cv_results_nn5050_embeddings_only_cw_top3_epochs50.pickle'\n",
    "\n",
    "r_nn25_no = pd.read_pickle(input_25_no)\n",
    "r_nn25 = pd.read_pickle(input_25)\n",
    "r_nn50 = pd.read_pickle(input_50)\n",
    "r_nn75 = pd.read_pickle(input_75)\n",
    "r_nn2525 = pd.read_pickle(input_2525)\n",
    "r_nn2550 = pd.read_pickle(input_2550)\n",
    "r_nn5050 = pd.read_pickle(input_5050)"
   ]
  },
  {
   "cell_type": "code",
   "execution_count": 9,
   "metadata": {},
   "outputs": [],
   "source": [
    "#wrap rouge score in dataframe\n",
    "df_nn25_no = pd.DataFrame(r_nn25_no['Rouge']['rouge1'], index=['NN 25 No Bal']).apply(lambda x: round(x,3))\n",
    "df_nn25 = pd.DataFrame(r_nn25['Rouge']['rouge1'], index=['NN 25 Bal']).apply(lambda x: round(x,3))\n",
    "df_nn50 = pd.DataFrame(r_nn50['Rouge']['rouge1'], index=['NN 50 Bal']).apply(lambda x: round(x,3))\n",
    "df_nn75 = pd.DataFrame(r_nn75['Rouge']['rouge1'], index=['NN 75 Bal']).apply(lambda x: round(x,3))\n",
    "df_nn2525 = pd.DataFrame(r_nn2525['Rouge']['rouge1'], index=['NN 25 25 Bal']).apply(lambda x: round(x,3))\n",
    "df_nn2550 = pd.DataFrame(r_nn2550['Rouge']['rouge1'], index=['NN 25 50 Bal']).apply(lambda x: round(x,3))\n",
    "df_nn5050 = pd.DataFrame(r_nn5050['Rouge']['rouge1'], index=['NN 50 50 Bal']).apply(lambda x: round(x,3))"
   ]
  },
  {
   "cell_type": "code",
   "execution_count": 10,
   "metadata": {},
   "outputs": [],
   "source": [
    "#concatenate\n",
    "df_nn = pd.concat([df_nn25_no, df_nn25, df_nn50, df_nn75, df_nn2525, df_nn2550, df_nn5050])"
   ]
  },
  {
   "cell_type": "code",
   "execution_count": 11,
   "metadata": {},
   "outputs": [
    {
     "data": {
      "text/html": [
       "<div>\n",
       "<style scoped>\n",
       "    .dataframe tbody tr th:only-of-type {\n",
       "        vertical-align: middle;\n",
       "    }\n",
       "\n",
       "    .dataframe tbody tr th {\n",
       "        vertical-align: top;\n",
       "    }\n",
       "\n",
       "    .dataframe thead th {\n",
       "        text-align: right;\n",
       "    }\n",
       "</style>\n",
       "<table border=\"1\" class=\"dataframe\">\n",
       "  <thead>\n",
       "    <tr style=\"text-align: right;\">\n",
       "      <th>ROUGE-1</th>\n",
       "      <th>f1</th>\n",
       "      <th>recall</th>\n",
       "      <th>precision</th>\n",
       "    </tr>\n",
       "    <tr>\n",
       "      <th>Neural Network (Dense Dense)</th>\n",
       "      <th></th>\n",
       "      <th></th>\n",
       "      <th></th>\n",
       "    </tr>\n",
       "  </thead>\n",
       "  <tbody>\n",
       "    <tr>\n",
       "      <th>NN 25 No Bal</th>\n",
       "      <td>0.400</td>\n",
       "      <td>0.391</td>\n",
       "      <td>0.548</td>\n",
       "    </tr>\n",
       "    <tr>\n",
       "      <th>NN 25 Bal</th>\n",
       "      <td>0.405</td>\n",
       "      <td>0.397</td>\n",
       "      <td>0.547</td>\n",
       "    </tr>\n",
       "    <tr>\n",
       "      <th>NN 50 Bal</th>\n",
       "      <td>0.398</td>\n",
       "      <td>0.392</td>\n",
       "      <td>0.540</td>\n",
       "    </tr>\n",
       "    <tr>\n",
       "      <th>NN 75 Bal</th>\n",
       "      <td>0.403</td>\n",
       "      <td>0.393</td>\n",
       "      <td>0.549</td>\n",
       "    </tr>\n",
       "    <tr>\n",
       "      <th>NN 25 25 Bal</th>\n",
       "      <td>0.409</td>\n",
       "      <td>0.389</td>\n",
       "      <td>0.571</td>\n",
       "    </tr>\n",
       "    <tr>\n",
       "      <th>NN 25 50 Bal</th>\n",
       "      <td>0.402</td>\n",
       "      <td>0.405</td>\n",
       "      <td>0.538</td>\n",
       "    </tr>\n",
       "    <tr>\n",
       "      <th>NN 50 50 Bal</th>\n",
       "      <td>0.400</td>\n",
       "      <td>0.392</td>\n",
       "      <td>0.543</td>\n",
       "    </tr>\n",
       "  </tbody>\n",
       "</table>\n",
       "</div>"
      ],
      "text/plain": [
       "ROUGE-1                          f1  recall  precision\n",
       "Neural Network (Dense Dense)                          \n",
       "NN 25 No Bal                  0.400   0.391      0.548\n",
       "NN 25 Bal                     0.405   0.397      0.547\n",
       "NN 50 Bal                     0.398   0.392      0.540\n",
       "NN 75 Bal                     0.403   0.393      0.549\n",
       "NN 25 25 Bal                  0.409   0.389      0.571\n",
       "NN 25 50 Bal                  0.402   0.405      0.538\n",
       "NN 50 50 Bal                  0.400   0.392      0.543"
      ]
     },
     "execution_count": 11,
     "metadata": {},
     "output_type": "execute_result"
    }
   ],
   "source": [
    "#display\n",
    "df_nn.columns.name = 'ROUGE-1'\n",
    "df_nn.index.name = 'Neural Network (Dense Dense)'\n",
    "df_nn = df_nn[['f1', 'recall', 'precision']]\n",
    "\n",
    "df_nn"
   ]
  },
  {
   "cell_type": "code",
   "execution_count": 12,
   "metadata": {},
   "outputs": [
    {
     "data": {
      "text/html": [
       "<div>\n",
       "<style scoped>\n",
       "    .dataframe tbody tr th:only-of-type {\n",
       "        vertical-align: middle;\n",
       "    }\n",
       "\n",
       "    .dataframe tbody tr th {\n",
       "        vertical-align: top;\n",
       "    }\n",
       "\n",
       "    .dataframe thead th {\n",
       "        text-align: right;\n",
       "    }\n",
       "</style>\n",
       "<table border=\"1\" class=\"dataframe\">\n",
       "  <thead>\n",
       "    <tr style=\"text-align: right;\">\n",
       "      <th>Predicted</th>\n",
       "      <th>Out</th>\n",
       "      <th>In</th>\n",
       "    </tr>\n",
       "    <tr>\n",
       "      <th>Actual</th>\n",
       "      <th></th>\n",
       "      <th></th>\n",
       "    </tr>\n",
       "  </thead>\n",
       "  <tbody>\n",
       "    <tr>\n",
       "      <th>Out</th>\n",
       "      <td>23463</td>\n",
       "      <td>5855</td>\n",
       "    </tr>\n",
       "    <tr>\n",
       "      <th>In</th>\n",
       "      <td>1629</td>\n",
       "      <td>1478</td>\n",
       "    </tr>\n",
       "  </tbody>\n",
       "</table>\n",
       "</div>"
      ],
      "text/plain": [
       "Predicted    Out    In\n",
       "Actual                \n",
       "Out        23463  5855\n",
       "In          1629  1478"
      ]
     },
     "execution_count": 12,
     "metadata": {},
     "output_type": "execute_result"
    }
   ],
   "source": [
    "#wrap confusion matrix for optimal nn in df for display\n",
    "cm_nn = pd.DataFrame(r_nn2525['conf_matrix'], index= ['Out', 'In'], columns=['Out', 'In'])\n",
    "cm_nn.columns.name = 'Predicted'\n",
    "cm_nn.index.name = 'Actual'\n",
    "cm_nn"
   ]
  },
  {
   "cell_type": "code",
   "execution_count": 13,
   "metadata": {},
   "outputs": [],
   "source": [
    "#calculate macro cm scores for optimal nn\n",
    "recall_nn = (cm_nn.iloc[1,1] / (cm_nn.iloc[1,0] + cm_nn.iloc[1,1]) + cm_nn.iloc[0,0] / \n",
    "             (cm_nn.iloc[0,0] + cm_nn.iloc[0,1]))/2\n",
    "prec_nn = (cm_nn.iloc[1,1] / (cm_nn.iloc[0,1] + cm_nn.iloc[1,1]) + cm_nn.iloc[0,0] / \n",
    "           (cm_nn.iloc[0,0] + cm_nn.iloc[1,0]))/2\n",
    "f1_nn = 2*recall_nn*prec_nn/ (recall_nn+prec_nn)\n",
    "accuracy_nn = (cm_nn.iloc[0,0]+cm_nn.iloc[1,1])/cm_nn.sum().sum()"
   ]
  },
  {
   "cell_type": "code",
   "execution_count": 29,
   "metadata": {},
   "outputs": [],
   "source": [
    "#calculate macro cm scores for best logreg\n",
    "recall_lr = (cm_bal.iloc[1,1] / (cm_bal.iloc[1,0] + cm_bal.iloc[1,1]) + cm_bal.iloc[0,0] / \n",
    "             (cm_bal.iloc[0,0] + cm_bal.iloc[0,1]))/2\n",
    "prec_lr = (cm_bal.iloc[1,1] / (cm_bal.iloc[0,1] + cm_bal.iloc[1,1]) + cm_bal.iloc[0,0] / \n",
    "           (cm_bal.iloc[0,0] + cm_bal.iloc[1,0]))/2\n",
    "f1_lr = 2*recall_lr*prec_lr/ (recall_lr+prec_lr)\n",
    "accuracy_lr = (cm_bal.iloc[0,0]+cm_bal.iloc[1,1])/cm_bal.sum().sum()"
   ]
  },
  {
   "cell_type": "code",
   "execution_count": 30,
   "metadata": {},
   "outputs": [
    {
     "data": {
      "text/html": [
       "<div>\n",
       "<style scoped>\n",
       "    .dataframe tbody tr th:only-of-type {\n",
       "        vertical-align: middle;\n",
       "    }\n",
       "\n",
       "    .dataframe tbody tr th {\n",
       "        vertical-align: top;\n",
       "    }\n",
       "\n",
       "    .dataframe thead th {\n",
       "        text-align: right;\n",
       "    }\n",
       "</style>\n",
       "<table border=\"1\" class=\"dataframe\">\n",
       "  <thead>\n",
       "    <tr style=\"text-align: right;\">\n",
       "      <th></th>\n",
       "      <th>f1</th>\n",
       "      <th>recall</th>\n",
       "      <th>precision</th>\n",
       "      <th>accuracy</th>\n",
       "    </tr>\n",
       "    <tr>\n",
       "      <th>Standard Confusion Matrix Scores (Macro)</th>\n",
       "      <th></th>\n",
       "      <th></th>\n",
       "      <th></th>\n",
       "      <th></th>\n",
       "    </tr>\n",
       "  </thead>\n",
       "  <tbody>\n",
       "    <tr>\n",
       "      <th>NN 25 25 Bal</th>\n",
       "      <td>0.601</td>\n",
       "      <td>0.638</td>\n",
       "      <td>0.568</td>\n",
       "      <td>0.769</td>\n",
       "    </tr>\n",
       "    <tr>\n",
       "      <th>LogReg Bal</th>\n",
       "      <td>0.595</td>\n",
       "      <td>0.644</td>\n",
       "      <td>0.554</td>\n",
       "      <td>0.657</td>\n",
       "    </tr>\n",
       "  </tbody>\n",
       "</table>\n",
       "</div>"
      ],
      "text/plain": [
       "                                             f1  recall  precision  accuracy\n",
       "Standard Confusion Matrix Scores (Macro)                                    \n",
       "NN 25 25 Bal                              0.601   0.638      0.568     0.769\n",
       "LogReg Bal                                0.595   0.644      0.554     0.657"
      ]
     },
     "execution_count": 30,
     "metadata": {},
     "output_type": "execute_result"
    }
   ],
   "source": [
    "#concatenate and wrap in df for display\n",
    "df_cm_scores_nn = pd.DataFrame(np.array([f1_nn, recall_nn, prec_nn, accuracy_nn]).reshape(1,4), \n",
    "                               index=['NN 25 25 Bal'], columns=['f1', 'recall', 'precision', 'accuracy'])\n",
    "df_cm_scores_lr = pd.DataFrame(np.array([f1_lr, recall_lr, prec_lr, accuracy_lr]).reshape(1,4), \n",
    "                               index=['LogReg Bal'], columns=['f1', 'recall', 'precision','accuracy'])\n",
    "df_cm_scores = pd.concat([df_cm_scores_nn, df_cm_scores_lr])\n",
    "df_cm_scores.index.name = 'Standard Confusion Matrix Scores (Macro)'\n",
    "df_cm_scores = df_cm_scores.apply(lambda x: round(x,3))\n",
    "df_cm_scores"
   ]
  },
  {
   "cell_type": "markdown",
   "metadata": {},
   "source": [
    "### TextRank Baseline"
   ]
  },
  {
   "cell_type": "code",
   "execution_count": 31,
   "metadata": {},
   "outputs": [],
   "source": [
    "#load results\n",
    "input_textrank = 'cv_results_textrank.pickle'\n",
    "\n",
    "r_textrank = pd.read_pickle(input_textrank)\n",
    "\n",
    "scores_textrank = r_textrank['Rouge']"
   ]
  },
  {
   "cell_type": "code",
   "execution_count": 32,
   "metadata": {},
   "outputs": [
    {
     "data": {
      "text/html": [
       "<div>\n",
       "<style scoped>\n",
       "    .dataframe tbody tr th:only-of-type {\n",
       "        vertical-align: middle;\n",
       "    }\n",
       "\n",
       "    .dataframe tbody tr th {\n",
       "        vertical-align: top;\n",
       "    }\n",
       "\n",
       "    .dataframe thead th {\n",
       "        text-align: right;\n",
       "    }\n",
       "</style>\n",
       "<table border=\"1\" class=\"dataframe\">\n",
       "  <thead>\n",
       "    <tr style=\"text-align: right;\">\n",
       "      <th>ROUGE-1</th>\n",
       "      <th>f1</th>\n",
       "      <th>recall</th>\n",
       "      <th>precision</th>\n",
       "    </tr>\n",
       "  </thead>\n",
       "  <tbody>\n",
       "    <tr>\n",
       "      <th>TextRank</th>\n",
       "      <td>0.340</td>\n",
       "      <td>0.326</td>\n",
       "      <td>0.469</td>\n",
       "    </tr>\n",
       "    <tr>\n",
       "      <th>ElasticNet</th>\n",
       "      <td>0.415</td>\n",
       "      <td>0.401</td>\n",
       "      <td>0.566</td>\n",
       "    </tr>\n",
       "    <tr>\n",
       "      <th>NN 25 25 Bal</th>\n",
       "      <td>0.409</td>\n",
       "      <td>0.389</td>\n",
       "      <td>0.571</td>\n",
       "    </tr>\n",
       "  </tbody>\n",
       "</table>\n",
       "</div>"
      ],
      "text/plain": [
       "ROUGE-1          f1  recall  precision\n",
       "TextRank      0.340   0.326      0.469\n",
       "ElasticNet    0.415   0.401      0.566\n",
       "NN 25 25 Bal  0.409   0.389      0.571"
      ]
     },
     "execution_count": 32,
     "metadata": {},
     "output_type": "execute_result"
    }
   ],
   "source": [
    "#concatenate optimal models for baseline comparison and display Rouge1\n",
    "df_rouge1_textrank = pd.DataFrame(scores_textrank['rouge1'], index=['TextRank']).apply(lambda x: round(x,3))\n",
    "df_rouge1_nn2525 = df_nn2525\n",
    "df_rouge1_lr = df_net\n",
    "\n",
    "df_rouge1_baseline = pd.concat([df_rouge1_textrank, df_rouge1_lr, df_rouge1_nn2525 ])\n",
    "df_rouge1_baseline=df_rouge1_baseline[['f1', 'recall', 'precision']]\n",
    "df_rouge1_baseline.columns.name = 'ROUGE-1'\n",
    "df_rouge1_baseline"
   ]
  },
  {
   "cell_type": "code",
   "execution_count": 33,
   "metadata": {},
   "outputs": [
    {
     "data": {
      "text/html": [
       "<div>\n",
       "<style scoped>\n",
       "    .dataframe tbody tr th:only-of-type {\n",
       "        vertical-align: middle;\n",
       "    }\n",
       "\n",
       "    .dataframe tbody tr th {\n",
       "        vertical-align: top;\n",
       "    }\n",
       "\n",
       "    .dataframe thead th {\n",
       "        text-align: right;\n",
       "    }\n",
       "</style>\n",
       "<table border=\"1\" class=\"dataframe\">\n",
       "  <thead>\n",
       "    <tr style=\"text-align: right;\">\n",
       "      <th>ROUGE-L</th>\n",
       "      <th>f1</th>\n",
       "      <th>recall</th>\n",
       "      <th>precision</th>\n",
       "    </tr>\n",
       "  </thead>\n",
       "  <tbody>\n",
       "    <tr>\n",
       "      <th>TextRank</th>\n",
       "      <td>0.271</td>\n",
       "      <td>0.255</td>\n",
       "      <td>0.384</td>\n",
       "    </tr>\n",
       "    <tr>\n",
       "      <th>ElasticNet</th>\n",
       "      <td>0.371</td>\n",
       "      <td>0.356</td>\n",
       "      <td>0.510</td>\n",
       "    </tr>\n",
       "    <tr>\n",
       "      <th>NN 25 25 Bal</th>\n",
       "      <td>0.360</td>\n",
       "      <td>0.341</td>\n",
       "      <td>0.506</td>\n",
       "    </tr>\n",
       "  </tbody>\n",
       "</table>\n",
       "</div>"
      ],
      "text/plain": [
       "ROUGE-L          f1  recall  precision\n",
       "TextRank      0.271   0.255      0.384\n",
       "ElasticNet    0.371   0.356      0.510\n",
       "NN 25 25 Bal  0.360   0.341      0.506"
      ]
     },
     "execution_count": 33,
     "metadata": {},
     "output_type": "execute_result"
    }
   ],
   "source": [
    "#concatenate optimal models for baseline comparison and display RougeL\n",
    "df_rougeL_textrank = pd.DataFrame(scores_textrank['rougeL'], index=['TextRank']).apply(lambda x: round(x,3))\n",
    "df_rougeL_lr = pd.DataFrame(r_net['Rouge']['rougeL'], index=['ElasticNet']).apply(lambda x: round(x,3))\n",
    "df_rougeL_nn2525 = pd.DataFrame(r_nn2525['Rouge']['rougeL'], index=['NN 25 25 Bal']).apply(lambda x: round(x,3))\n",
    "\n",
    "df_rougeL_baseline = pd.concat([df_rougeL_textrank, df_rougeL_lr, df_rougeL_nn2525 ])\n",
    "df_rougeL_baseline=df_rougeL_baseline[['f1', 'recall', 'precision']]\n",
    "df_rougeL_baseline.columns.name = 'ROUGE-L'\n",
    "df_rougeL_baseline"
   ]
  },
  {
   "cell_type": "code",
   "execution_count": 34,
   "metadata": {},
   "outputs": [
    {
     "name": "stdout",
     "output_type": "stream",
     "text": [
      "\u001b[1mOriginal  \u001b[0m\n",
      "By CORKY SIEMASZKO DAILY NEWS STAFF WRITER Mother Teresa believed she was possessed by the Devil, the archbishop of Calcutta said yesterday. So the revered nun, whom the Vatican hopes to make a saint, underwent an exorcism and afterward \"slept like a baby,\"he said. Archbishop Henry D'Souza's bizarre revelation came as millions yesterday marked the fourth anniversary of Mother Teresa's death. But D'Souza told CNN and The Associated Press in India he truly believed\n",
      "\n",
      "\u001b[1mElastic Net\u001b[0m\n",
      "Archbishop Henry D'Souza's bizarre revelation came as millions yesterday marked the fourth anniversary of Mother Teresa's death. The Catholic cleric said he diagnosed the demon in Mother Teresa shortly before she had a fatal heart attack Sept. 5, 1997, and died at age 87. Mother Teresa won a Nobel Prize for her life's work, and Pope John Paul has begun the process of declaring her a saint.\n",
      "\n",
      "\u001b[1mNeural Net\u001b[0m\n",
      "Mother Teresa believed she was possessed by the Devil, the archbishop of Calcutta said yesterday. So the revered nun, whom the Vatican hopes to make a saint, underwent an exorcism and afterward \"slept like a baby,\" he said. Mother Teresa won a Nobel Prize for her life's work, and Pope John Paul has begun the process of declaring her a saint.\n",
      "\n",
      "\u001b[1mTextRank  \u001b[0m\n",
      "Mother Teresa believed she was possessed by the Devil, the archbishop of Calcutta said yesterday. So the revered nun, whom the Vatican hopes to make a saint, underwent an exorcism and afterward \"slept like a baby,\" he said. D'Souza said he suggested an exorcism, and the elderly nun, who had devoted her life to helping the poor and downtrodden, quickly agreed.\n"
     ]
    }
   ],
   "source": [
    "#Pull article and display summaries across models + gold summary\n",
    "article_label = 1\n",
    "\n",
    "print('\\033[1m{:10s}\\033[0m'.format('Original')) \n",
    "print(r_textrank['summaries_comp'][article_label][1].replace('\\n\\n', ''))\n",
    "print('')\n",
    "\n",
    "print('\\033[1m{:10s}\\033[0m'.format('Elastic Net')) \n",
    "print(r_net['summaries_comp'][article_label][0].replace('\\n\\n', ''))\n",
    "print('')\n",
    "\n",
    "print('\\033[1m{:10s}\\033[0m'.format('Neural Net')) \n",
    "print(r_nn2525['summaries_comp'][article_label][0].replace('\\n\\n', ''))\n",
    "print('')\n",
    "\n",
    "print('\\033[1m{:10s}\\033[0m'.format('TextRank')) \n",
    "print(r_textrank['summaries_comp'][article_label][0].replace('\\n\\n', ''))"
   ]
  },
  {
   "cell_type": "markdown",
   "metadata": {},
   "source": [
    "## Section 2: Supervised Learning Including Sequential Information"
   ]
  },
  {
   "cell_type": "markdown",
   "metadata": {},
   "source": [
    "### LogReg with Sentence Number"
   ]
  },
  {
   "cell_type": "code",
   "execution_count": 35,
   "metadata": {},
   "outputs": [],
   "source": [
    "#load data\n",
    "import pandas as pd\n",
    "\n",
    "input_sent_num_def =  'cv_results_top_3_logreg_sent_num_no_bal.pickle'\n",
    "input_sent_num_bal = 'cv_results_top_3_logreg_sent_num_bal.pickle'\n",
    "\n",
    "r_sent_num_def = pd.read_pickle(input_sent_num_def)\n",
    "r_sent_num_bal = pd.read_pickle(input_sent_num_bal)"
   ]
  },
  {
   "cell_type": "code",
   "execution_count": 36,
   "metadata": {},
   "outputs": [
    {
     "data": {
      "text/html": [
       "<div>\n",
       "<style scoped>\n",
       "    .dataframe tbody tr th:only-of-type {\n",
       "        vertical-align: middle;\n",
       "    }\n",
       "\n",
       "    .dataframe tbody tr th {\n",
       "        vertical-align: top;\n",
       "    }\n",
       "\n",
       "    .dataframe thead th {\n",
       "        text-align: right;\n",
       "    }\n",
       "</style>\n",
       "<table border=\"1\" class=\"dataframe\">\n",
       "  <thead>\n",
       "    <tr style=\"text-align: right;\">\n",
       "      <th>ROUGE-1</th>\n",
       "      <th>f1</th>\n",
       "      <th>recall</th>\n",
       "      <th>precision</th>\n",
       "    </tr>\n",
       "    <tr>\n",
       "      <th>LogReg</th>\n",
       "      <th></th>\n",
       "      <th></th>\n",
       "      <th></th>\n",
       "    </tr>\n",
       "  </thead>\n",
       "  <tbody>\n",
       "    <tr>\n",
       "      <th>Default</th>\n",
       "      <td>0.525</td>\n",
       "      <td>0.527</td>\n",
       "      <td>0.684</td>\n",
       "    </tr>\n",
       "    <tr>\n",
       "      <th>Balanced</th>\n",
       "      <td>0.499</td>\n",
       "      <td>0.505</td>\n",
       "      <td>0.647</td>\n",
       "    </tr>\n",
       "  </tbody>\n",
       "</table>\n",
       "</div>"
      ],
      "text/plain": [
       "ROUGE-1      f1  recall  precision\n",
       "LogReg                            \n",
       "Default   0.525   0.527      0.684\n",
       "Balanced  0.499   0.505      0.647"
      ]
     },
     "execution_count": 36,
     "metadata": {},
     "output_type": "execute_result"
    }
   ],
   "source": [
    "#wrap rouge score in dataframe, concatenate and display\n",
    "df_sent_num_def= pd.DataFrame(r_sent_num_def['Rouge']['rouge1'], index=['Default']).apply(lambda x: round(x,3))\n",
    "df_sent_num_bal = pd.DataFrame(r_sent_num_bal['Rouge']['rouge1'], index=['Balanced']).apply(lambda x: round(x,3))\n",
    "\n",
    "df_lr_sent_num = pd.concat([df_sent_num_def, df_sent_num_bal]) \n",
    "df_lr_sent_num.columns.name = 'ROUGE-1'\n",
    "df_lr_sent_num.index.name = 'LogReg'\n",
    "df_lr_sent_num[['f1', 'recall', 'precision']]"
   ]
  },
  {
   "cell_type": "markdown",
   "metadata": {},
   "source": [
    "### Long Short Term Memory (LSTM)"
   ]
  },
  {
   "cell_type": "code",
   "execution_count": 37,
   "metadata": {},
   "outputs": [],
   "source": [
    "#load data\n",
    "input_lstm_un25 = 'cv_results_lstm_uni25_embeddings_only_epochs1_top3.pickle'\n",
    "input_lstm_un50 = 'cv_results_lstm_uni50_embeddings_only_epochs1_top3.pickle'\n",
    "input_lstm_bi25 = 'cv_results_lstm_bi25_embeddings_only_epochs1_top3.pickle'\n",
    "input_lstm_bi50 = 'cv_results_lstm_bi50_embeddings_only_epochs1_top3.pickle'\n",
    "\n",
    "r_lstm_un25 = pd.read_pickle(input_lstm_un25)\n",
    "r_lstm_un50 = pd.read_pickle(input_lstm_un50)\n",
    "r_lstm_bi25 = pd.read_pickle(input_lstm_bi25)\n",
    "r_lstm_bi50 = pd.read_pickle(input_lstm_bi50)"
   ]
  },
  {
   "cell_type": "code",
   "execution_count": 38,
   "metadata": {},
   "outputs": [],
   "source": [
    "#wrap rouge score in dataframe\n",
    "\n",
    "df_lstm_un25 = pd.DataFrame(r_lstm_un25['Rouge']['rouge1'], index=['LSTM Uni 25']).apply(lambda x: round(x,3))\n",
    "df_lstm_un50 = pd.DataFrame(r_lstm_un50['Rouge']['rouge1'], index=['LSTM Uni 50']).apply(lambda x: round(x,3))\n",
    "df_lstm_bi25 = pd.DataFrame(r_lstm_bi25['Rouge']['rouge1'], index=['LSTM Bi 25']).apply(lambda x: round(x,3))\n",
    "df_lstm_bi50 = pd.DataFrame(r_lstm_bi50['Rouge']['rouge1'], index=['LSTM Bi 50']).apply(lambda x: round(x,3))"
   ]
  },
  {
   "cell_type": "code",
   "execution_count": 39,
   "metadata": {},
   "outputs": [],
   "source": [
    "#concatenate\n",
    "df_lstm = pd.concat([df_lstm_un25, df_lstm_un50, df_lstm_bi25, df_lstm_bi50])"
   ]
  },
  {
   "cell_type": "code",
   "execution_count": 40,
   "metadata": {},
   "outputs": [
    {
     "data": {
      "text/html": [
       "<div>\n",
       "<style scoped>\n",
       "    .dataframe tbody tr th:only-of-type {\n",
       "        vertical-align: middle;\n",
       "    }\n",
       "\n",
       "    .dataframe tbody tr th {\n",
       "        vertical-align: top;\n",
       "    }\n",
       "\n",
       "    .dataframe thead th {\n",
       "        text-align: right;\n",
       "    }\n",
       "</style>\n",
       "<table border=\"1\" class=\"dataframe\">\n",
       "  <thead>\n",
       "    <tr style=\"text-align: right;\">\n",
       "      <th>ROUGE-1</th>\n",
       "      <th>f1</th>\n",
       "      <th>recall</th>\n",
       "      <th>precision</th>\n",
       "    </tr>\n",
       "    <tr>\n",
       "      <th>LSTM</th>\n",
       "      <th></th>\n",
       "      <th></th>\n",
       "      <th></th>\n",
       "    </tr>\n",
       "  </thead>\n",
       "  <tbody>\n",
       "    <tr>\n",
       "      <th>LSTM Uni 25</th>\n",
       "      <td>0.599</td>\n",
       "      <td>0.593</td>\n",
       "      <td>0.760</td>\n",
       "    </tr>\n",
       "    <tr>\n",
       "      <th>LSTM Uni 50</th>\n",
       "      <td>0.597</td>\n",
       "      <td>0.586</td>\n",
       "      <td>0.767</td>\n",
       "    </tr>\n",
       "    <tr>\n",
       "      <th>LSTM Bi 25</th>\n",
       "      <td>0.595</td>\n",
       "      <td>0.583</td>\n",
       "      <td>0.767</td>\n",
       "    </tr>\n",
       "    <tr>\n",
       "      <th>LSTM Bi 50</th>\n",
       "      <td>0.603</td>\n",
       "      <td>0.594</td>\n",
       "      <td>0.769</td>\n",
       "    </tr>\n",
       "  </tbody>\n",
       "</table>\n",
       "</div>"
      ],
      "text/plain": [
       "ROUGE-1         f1  recall  precision\n",
       "LSTM                                 \n",
       "LSTM Uni 25  0.599   0.593      0.760\n",
       "LSTM Uni 50  0.597   0.586      0.767\n",
       "LSTM Bi 25   0.595   0.583      0.767\n",
       "LSTM Bi 50   0.603   0.594      0.769"
      ]
     },
     "execution_count": 40,
     "metadata": {},
     "output_type": "execute_result"
    }
   ],
   "source": [
    "#display Rouge1\n",
    "df_lstm.columns.name = 'ROUGE-1'\n",
    "df_lstm.index.name = 'LSTM'\n",
    "df_lstm = df_lstm[['f1', 'recall', 'precision']]\n",
    "\n",
    "df_lstm"
   ]
  },
  {
   "cell_type": "markdown",
   "metadata": {},
   "source": [
    "### LEDE3\n",
    "\n",
    "### Rouge1"
   ]
  },
  {
   "cell_type": "code",
   "execution_count": 41,
   "metadata": {},
   "outputs": [],
   "source": [
    "#load data\n",
    "input_lede3 = 'cv_results_LEDE3.pickle'\n",
    "r_lede3 = pd.read_pickle(input_lede3)\n",
    "df_lede3 = pd.DataFrame(r_lede3['Rouge']['rouge1'], index=['LEDE3']).apply(lambda x: round(x,3))"
   ]
  },
  {
   "cell_type": "code",
   "execution_count": 42,
   "metadata": {},
   "outputs": [
    {
     "data": {
      "text/html": [
       "<div>\n",
       "<style scoped>\n",
       "    .dataframe tbody tr th:only-of-type {\n",
       "        vertical-align: middle;\n",
       "    }\n",
       "\n",
       "    .dataframe tbody tr th {\n",
       "        vertical-align: top;\n",
       "    }\n",
       "\n",
       "    .dataframe thead th {\n",
       "        text-align: right;\n",
       "    }\n",
       "</style>\n",
       "<table border=\"1\" class=\"dataframe\">\n",
       "  <thead>\n",
       "    <tr style=\"text-align: right;\">\n",
       "      <th>ROUGE-1</th>\n",
       "      <th>f1</th>\n",
       "      <th>recall</th>\n",
       "      <th>precision</th>\n",
       "    </tr>\n",
       "  </thead>\n",
       "  <tbody>\n",
       "    <tr>\n",
       "      <th>LEDE3</th>\n",
       "      <td>0.567</td>\n",
       "      <td>0.599</td>\n",
       "      <td>0.698</td>\n",
       "    </tr>\n",
       "    <tr>\n",
       "      <th>LogReg Def</th>\n",
       "      <td>0.525</td>\n",
       "      <td>0.527</td>\n",
       "      <td>0.684</td>\n",
       "    </tr>\n",
       "    <tr>\n",
       "      <th>LSTM Bi 50</th>\n",
       "      <td>0.603</td>\n",
       "      <td>0.594</td>\n",
       "      <td>0.769</td>\n",
       "    </tr>\n",
       "  </tbody>\n",
       "</table>\n",
       "</div>"
      ],
      "text/plain": [
       "ROUGE-1        f1  recall  precision\n",
       "LEDE3       0.567   0.599      0.698\n",
       "LogReg Def  0.525   0.527      0.684\n",
       "LSTM Bi 50  0.603   0.594      0.769"
      ]
     },
     "execution_count": 42,
     "metadata": {},
     "output_type": "execute_result"
    }
   ],
   "source": [
    "#concatenate optimal models for baseline comparison and display Rouge1\n",
    "df_lede3_comp = pd.concat([df_lede3, df_sent_num_def, df_lstm_bi50])\n",
    "df_lede3_comp=df_lede3_comp[['f1', 'recall', 'precision']]\n",
    "df_lede3_comp.index = ['LEDE3', 'LogReg Def', 'LSTM Bi 50']\n",
    "df_lede3_comp.columns.name = 'ROUGE-1'\n",
    "df_lede3_comp"
   ]
  },
  {
   "cell_type": "markdown",
   "metadata": {},
   "source": [
    "### Rouge L"
   ]
  },
  {
   "cell_type": "code",
   "execution_count": 43,
   "metadata": {},
   "outputs": [],
   "source": [
    "#wrap optimal models in df\n",
    "df_lede3_rougeL = pd.DataFrame(r_lede3['Rouge']['rougeL'], index=['LEDE3']).apply(lambda x: round(x,3))\n",
    "df_sent_num_def_rougeL= pd.DataFrame(r_sent_num_def['Rouge']['rougeL'], index=['Default']).apply(lambda x: round(x,3))\n",
    "df_lstm_bi50_rougeL = pd.DataFrame(r_lstm_bi50['Rouge']['rougeL'], index=['LSTM Bi 50']).apply(lambda x: round(x,3))"
   ]
  },
  {
   "cell_type": "code",
   "execution_count": 44,
   "metadata": {},
   "outputs": [
    {
     "data": {
      "text/html": [
       "<div>\n",
       "<style scoped>\n",
       "    .dataframe tbody tr th:only-of-type {\n",
       "        vertical-align: middle;\n",
       "    }\n",
       "\n",
       "    .dataframe tbody tr th {\n",
       "        vertical-align: top;\n",
       "    }\n",
       "\n",
       "    .dataframe thead th {\n",
       "        text-align: right;\n",
       "    }\n",
       "</style>\n",
       "<table border=\"1\" class=\"dataframe\">\n",
       "  <thead>\n",
       "    <tr style=\"text-align: right;\">\n",
       "      <th>ROUGE-L</th>\n",
       "      <th>f1</th>\n",
       "      <th>recall</th>\n",
       "      <th>precision</th>\n",
       "    </tr>\n",
       "  </thead>\n",
       "  <tbody>\n",
       "    <tr>\n",
       "      <th>LEDE3</th>\n",
       "      <td>0.552</td>\n",
       "      <td>0.582</td>\n",
       "      <td>0.678</td>\n",
       "    </tr>\n",
       "    <tr>\n",
       "      <th>LogReg Def</th>\n",
       "      <td>0.498</td>\n",
       "      <td>0.500</td>\n",
       "      <td>0.648</td>\n",
       "    </tr>\n",
       "    <tr>\n",
       "      <th>LSTM Bi 50</th>\n",
       "      <td>0.587</td>\n",
       "      <td>0.577</td>\n",
       "      <td>0.746</td>\n",
       "    </tr>\n",
       "  </tbody>\n",
       "</table>\n",
       "</div>"
      ],
      "text/plain": [
       "ROUGE-L        f1  recall  precision\n",
       "LEDE3       0.552   0.582      0.678\n",
       "LogReg Def  0.498   0.500      0.648\n",
       "LSTM Bi 50  0.587   0.577      0.746"
      ]
     },
     "execution_count": 44,
     "metadata": {},
     "output_type": "execute_result"
    }
   ],
   "source": [
    "#concatenate optimal models for baseline comparison and display RougeL\n",
    "df_lede3_comp_rougeL = pd.concat([df_lede3_rougeL, df_sent_num_def_rougeL, df_lstm_bi50_rougeL])\n",
    "df_lede3_comp_rougeL =df_lede3_comp_rougeL [['f1', 'recall', 'precision']]\n",
    "df_lede3_comp_rougeL .index = ['LEDE3', 'LogReg Def', 'LSTM Bi 50']\n",
    "df_lede3_comp_rougeL .columns.name = 'ROUGE-L'\n",
    "df_lede3_comp_rougeL "
   ]
  }
 ],
 "metadata": {
  "kernelspec": {
   "display_name": "Python 3",
   "language": "python",
   "name": "python3"
  },
  "language_info": {
   "codemirror_mode": {
    "name": "ipython",
    "version": 3
   },
   "file_extension": ".py",
   "mimetype": "text/x-python",
   "name": "python",
   "nbconvert_exporter": "python",
   "pygments_lexer": "ipython3",
   "version": "3.8.3"
  }
 },
 "nbformat": 4,
 "nbformat_minor": 4
}
